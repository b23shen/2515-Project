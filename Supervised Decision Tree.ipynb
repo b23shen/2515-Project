{
 "cells": [
  {
   "cell_type": "markdown",
   "id": "a719284f",
   "metadata": {},
   "source": [
    "# Project: Decision Trees"
   ]
  },
  {
   "cell_type": "markdown",
   "id": "0e9a4096",
   "metadata": {},
   "source": [
    "## Part a: feature generation"
   ]
  },
  {
   "cell_type": "code",
   "execution_count": 175,
   "id": "6985b594",
   "metadata": {},
   "outputs": [],
   "source": [
    "import numpy as np\n",
    "import pandas as pd\n",
    "from sklearn.feature_extraction.text import CountVectorizer\n",
    "from sklearn.model_selection import train_test_split\n",
    "import skimage.io as io\n",
    "from skimage import feature\n",
    "from skimage.color import rgb2gray\n",
    "from skimage.feature import hog\n",
    "from skimage import data, exposure\n",
    "import skimage\n",
    "import os\n",
    "import cv2\n",
    "from skimage.transform import rotate\n",
    "from skimage.feature import local_binary_pattern\n",
    "from skimage import data\n",
    "from skimage.color import label2rgb\n",
    "\n",
    "import numpy as np\n",
    "import skimage.io as io\n",
    "from skimage.color import rgb2hsv\n",
    "from skimage import data\n",
    "import matplotlib.pyplot as plt"
   ]
  },
  {
   "cell_type": "code",
   "execution_count": 176,
   "id": "3f323620",
   "metadata": {},
   "outputs": [],
   "source": [
    "# You can change this part!!!\n",
    "feature_name = 'RGB'\n",
    "dataset_name = './Shoes'"
   ]
  },
  {
   "cell_type": "code",
   "execution_count": 177,
   "id": "0db8a701",
   "metadata": {},
   "outputs": [],
   "source": [
    "def LBP(image, region):\n",
    "    METHOD = 'uniform'\n",
    "    plt.rcParams['font.size'] = 9\n",
    "\n",
    "    # settings for LBP\n",
    "    radius = 3\n",
    "    n_points = 8 * radius\n",
    "\n",
    "\n",
    "    def overlay_labels(image, lbp, labels):\n",
    "        mask = np.logical_or.reduce([lbp == each for each in labels])\n",
    "        return label2rgb(mask, image=image, bg_label=0, alpha=0.5)\n",
    "\n",
    "\n",
    "    def highlight_bars(bars, indexes):\n",
    "        for i in indexes:\n",
    "            bars[i].set_facecolor('r')\n",
    "\n",
    "    lbp = local_binary_pattern(image, n_points, radius, METHOD)\n",
    "\n",
    "    titles = ('edge', 'flat', 'corner')\n",
    "    w = width = radius - 1\n",
    "    edge_labels = range(n_points // 2 - w, n_points // 2 + w + 1)\n",
    "    flat_labels = list(range(0, w + 1)) + list(range(n_points - w, n_points + 2))\n",
    "    i_14 = n_points // 4            # 1/4th of the histogram\n",
    "    i_34 = 3 * (n_points // 4)      # 3/4th of the histogram\n",
    "    corner_labels = (list(range(i_14 - w, i_14 + w + 1)) +\n",
    "                     list(range(i_34 - w, i_34 + w + 1)))\n",
    "\n",
    "    label_sets = (edge_labels, flat_labels, corner_labels)\n",
    "    \n",
    "    if region == 'edge':\n",
    "        return overlay_labels(image, lbp, edge_labels)\n",
    "    elif region == 'flat':\n",
    "        return overlay_labels(image, lbp, flat_labels)\n",
    "    elif region == 'corner':\n",
    "        return overlay_labels(image, lbp, corner_labels)\n",
    "    else:\n",
    "        raise Exception(\"Can't recognize region name!!!\")"
   ]
  },
  {
   "cell_type": "code",
   "execution_count": 178,
   "id": "578dad86",
   "metadata": {},
   "outputs": [],
   "source": [
    "def get_features(image, feature_name):\n",
    "    if feature_name == 'raw':\n",
    "        return image.flatten()\n",
    "    elif feature_name == 'RGB':\n",
    "#         image = np.moveaxis(image, -1, 0)\n",
    "        hist = cv2.calcHist([image], [0, 1, 2], None, [16, 16, 16], [0, 256, 0, 256, 0, 256])\n",
    "        return hist.flatten()\n",
    "    elif feature_name == 'canny':\n",
    "        edges = feature.canny(rgb2gray(image), sigma=1)\n",
    "        return edges.flatten()\n",
    "    elif feature_name == 'hog':\n",
    "        _, hog_image = hog(image, orientations=8, pixels_per_cell=(16, 16), cells_per_block=(1, 1), visualize=True, channel_axis=-1)\n",
    "        hog_image_rescaled = exposure.rescale_intensity(hog_image, in_range=(0, 10))\n",
    "        return hog_image_rescaled.flatten()\n",
    "    elif feature_name == 'LBP_edge':\n",
    "        return LBP(rgb2gray(image), 'flat').flatten()\n",
    "    if feature_name == 'LBP_flat':\n",
    "        return LBP(rgb2gray(image), 'flat').flatten()\n",
    "    if feature_name == 'LBP_corner':\n",
    "        return LBP(rgb2gray(image), 'flat').flatten()\n",
    "    else:\n",
    "        raise Exception(\"Can't recognize feature name!!!\")"
   ]
  },
  {
   "cell_type": "code",
   "execution_count": 179,
   "id": "5f670b3a",
   "metadata": {},
   "outputs": [],
   "source": [
    "def process_data(images, labels, feature_name):\n",
    "    X = []\n",
    "    \n",
    "    raw_imgs = np.load(images, allow_pickle=True)\n",
    "    \n",
    "    y = np.load(labels, allow_pickle=True)\n",
    "    \n",
    "    for i in range(raw_imgs.shape[0]):\n",
    "        X.append(get_features(raw_imgs[i], feature_name))\n",
    "    \n",
    "    return np.array(X), y"
   ]
  },
  {
   "cell_type": "code",
   "execution_count": 180,
   "id": "5f34bf4a",
   "metadata": {},
   "outputs": [],
   "source": [
    "X_train, y_train = process_data(dataset_name + \"/train_images_32.npy\", dataset_name + \"/train_labels.npy\", feature_name)\n",
    "X_valid, y_valid = process_data(dataset_name + \"/valid_images_32.npy\", dataset_name + \"/valid_labels.npy\", feature_name)\n",
    "X_test, y_test = process_data(dataset_name + \"/test_images_32.npy\", dataset_name + \"/test_labels.npy\", feature_name)"
   ]
  },
  {
   "cell_type": "code",
   "execution_count": 181,
   "id": "bd68b689",
   "metadata": {},
   "outputs": [],
   "source": [
    "# X, y = get_data(\"train\")\n",
    "# X_train, X_rem, y_train, y_rem = train_test_split(X, y, train_size=0.7)\n",
    "# X_valid, X_test, y_valid, y_test = train_test_split(X_rem, y_rem, test_size=0.5)"
   ]
  },
  {
   "cell_type": "code",
   "execution_count": 182,
   "id": "a2eb5ec6",
   "metadata": {},
   "outputs": [
    {
     "name": "stdout",
     "output_type": "stream",
     "text": [
      "(10000, 4096)\n",
      "(10000,)\n",
      "(2500, 4096)\n",
      "(2500,)\n",
      "(1215, 4096)\n",
      "(1215,)\n"
     ]
    },
    {
     "data": {
      "text/plain": [
       "(None, None)"
      ]
     },
     "execution_count": 182,
     "metadata": {},
     "output_type": "execute_result"
    }
   ],
   "source": [
    "print(X_train.shape), print(y_train.shape)\n",
    "print(X_valid.shape), print(y_valid.shape)\n",
    "print(X_test.shape), print(y_test.shape)"
   ]
  },
  {
   "cell_type": "code",
   "execution_count": 183,
   "id": "e6c2a3b5",
   "metadata": {},
   "outputs": [],
   "source": [
    "# np.save(\"./X_train\", X_train)\n",
    "# np.save(\"./y_train\", y_train)\n",
    "# np.save(\"./X_test\", X_rem)\n",
    "# np.save(\"./y_test\", y_rem)"
   ]
  },
  {
   "cell_type": "markdown",
   "id": "4fe224af",
   "metadata": {},
   "source": [
    "## Part b: training"
   ]
  },
  {
   "cell_type": "code",
   "execution_count": 184,
   "id": "43d42506",
   "metadata": {},
   "outputs": [],
   "source": [
    "from sklearn.tree import DecisionTreeClassifier\n",
    "from sklearn import metrics"
   ]
  },
  {
   "cell_type": "code",
   "execution_count": 185,
   "id": "100a45bf",
   "metadata": {},
   "outputs": [],
   "source": [
    "def select_tree_model(model_num, max_depth, criteria, X_train, y_train, X_valid, y_valid):\n",
    "    clf = DecisionTreeClassifier(criterion=criteria, max_depth=max_depth)\n",
    "    \n",
    "    clf = clf.fit(X_train,y_train)\n",
    "    \n",
    "    y_pred = clf.predict(X_valid)\n",
    "    \n",
    "    accuracy = metrics.accuracy_score(y_valid, y_pred)\n",
    "    \n",
    "    print(\"Model %s: when training with max_depth = %d and criterion = %s, the accuracy = %f\" % (model_num, max_depth, criteria, accuracy))\n",
    "    \n",
    "    return (clf, accuracy)"
   ]
  },
  {
   "cell_type": "code",
   "execution_count": 186,
   "id": "822d808b",
   "metadata": {},
   "outputs": [
    {
     "name": "stdout",
     "output_type": "stream",
     "text": [
      "Model 1: when training with max_depth = 5 and criterion = gini, the accuracy = 0.371600\n",
      "Model 2: when training with max_depth = 5 and criterion = entropy, the accuracy = 0.379600\n",
      "Model 3: when training with max_depth = 10 and criterion = gini, the accuracy = 0.420000\n",
      "Model 4: when training with max_depth = 10 and criterion = entropy, the accuracy = 0.421200\n",
      "Model 5: when training with max_depth = 15 and criterion = gini, the accuracy = 0.428800\n",
      "Model 6: when training with max_depth = 15 and criterion = entropy, the accuracy = 0.437600\n",
      "Model 7: when training with max_depth = 20 and criterion = gini, the accuracy = 0.435600\n",
      "Model 8: when training with max_depth = 20 and criterion = entropy, the accuracy = 0.428800\n",
      "Model 9: when training with max_depth = 25 and criterion = gini, the accuracy = 0.425200\n",
      "Model 10: when training with max_depth = 25 and criterion = entropy, the accuracy = 0.430400\n",
      "\n",
      "The best model is model 6 with the accuracy of 0.4376\n"
     ]
    }
   ],
   "source": [
    "model_num = 1\n",
    "clf_best = None\n",
    "accuracy_best = -1\n",
    "model_best = 0\n",
    "\n",
    "for max_depth in [5, 10, 15, 20, 25]:\n",
    "    for criteria in ['gini', 'entropy']:\n",
    "        clf_curr, accuracy = select_tree_model(model_num, max_depth, criteria, X_train, y_train, X_valid, y_valid)\n",
    "        \n",
    "        if accuracy > accuracy_best:\n",
    "            accuracy_best = accuracy\n",
    "            clf_best = clf_curr\n",
    "            model_best = model_num\n",
    "            \n",
    "        model_num += 1\n",
    "\n",
    "print()\n",
    "print(\"The best model is model\", model_best, 'with the accuracy of', accuracy_best)"
   ]
  },
  {
   "cell_type": "code",
   "execution_count": 187,
   "id": "0926c0d3",
   "metadata": {},
   "outputs": [],
   "source": [
    "# np.save(\"./X_train\", X_train)\n",
    "# np.save(\"./y_train\", y_train)\n",
    "# np.save(\"./X_valid\", X_valid)\n",
    "# np.save(\"./y_valid\", y_valid)\n",
    "# np.save(\"./X_test\", X_test)\n",
    "# np.save(\"./y_test\", y_test)"
   ]
  },
  {
   "cell_type": "markdown",
   "id": "8bb658f8",
   "metadata": {},
   "source": [
    "## Part c: evaluation"
   ]
  },
  {
   "cell_type": "code",
   "execution_count": 188,
   "id": "98dad382",
   "metadata": {},
   "outputs": [
    {
     "name": "stdout",
     "output_type": "stream",
     "text": [
      "The testing accuracy is 0.43868312757201644\n"
     ]
    }
   ],
   "source": [
    "y_pred = clf_best.predict(X_test)\n",
    "    \n",
    "accuracy = metrics.accuracy_score(y_test, y_pred)\n",
    "\n",
    "print(\"The testing accuracy is\", accuracy)"
   ]
  },
  {
   "cell_type": "code",
   "execution_count": 189,
   "id": "685cc695",
   "metadata": {},
   "outputs": [],
   "source": [
    "# from matplotlib import pyplot as plt\n",
    "# from sklearn import tree"
   ]
  },
  {
   "cell_type": "code",
   "execution_count": 190,
   "id": "ddd256c9",
   "metadata": {},
   "outputs": [],
   "source": [
    "# text_representation = tree.export_text(clf_best)\n",
    "# fig = plt.figure(figsize=(25,20))\n",
    "# _ = tree.plot_tree(clf_best,\n",
    "#                    class_names=['0', '1', '2', '3', '4'],\n",
    "#                    max_depth=2,\n",
    "#                    filled=True)"
   ]
  },
  {
   "cell_type": "code",
   "execution_count": null,
   "id": "1fb43d62",
   "metadata": {},
   "outputs": [],
   "source": []
  }
 ],
 "metadata": {
  "kernelspec": {
   "display_name": "Python3.7 (Comp Img)",
   "language": "python",
   "name": "compimg"
  },
  "language_info": {
   "codemirror_mode": {
    "name": "ipython",
    "version": 3
   },
   "file_extension": ".py",
   "mimetype": "text/x-python",
   "name": "python",
   "nbconvert_exporter": "python",
   "pygments_lexer": "ipython3",
   "version": "3.7.13"
  }
 },
 "nbformat": 4,
 "nbformat_minor": 5
}
