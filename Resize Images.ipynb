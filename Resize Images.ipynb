{
 "cells": [
  {
   "cell_type": "code",
   "execution_count": 1,
   "id": "a44555b7",
   "metadata": {},
   "outputs": [],
   "source": [
    "import numpy as np\n",
    "import pandas as pd\n",
    "from sklearn.feature_extraction.text import CountVectorizer\n",
    "from sklearn.model_selection import train_test_split\n",
    "import skimage.io as io\n",
    "import skimage\n",
    "import os\n",
    "import cv2\n",
    "\n",
    "import numpy as np\n",
    "import skimage.io as io\n",
    "from skimage.color import rgb2hsv\n",
    "from skimage import data\n",
    "import matplotlib.pyplot as plt"
   ]
  },
  {
   "cell_type": "code",
   "execution_count": 15,
   "id": "e1364802",
   "metadata": {},
   "outputs": [],
   "source": [
    "path = './Fast_Food/'"
   ]
  },
  {
   "cell_type": "code",
   "execution_count": 16,
   "id": "edfb3adf",
   "metadata": {},
   "outputs": [],
   "source": [
    "def resize(folder, size):\n",
    "    images = np.load(path + folder + '_images.npy', allow_pickle=True)\n",
    "    \n",
    "    new_images = []\n",
    "    \n",
    "    for i in range(images.shape[0]):\n",
    "        image = skimage.transform.resize(images[i], (size, size, 3))\n",
    "    \n",
    "        image = (image*255).astype(np.uint8)\n",
    "        \n",
    "        new_images.append(image)\n",
    "    \n",
    "    return np.array(new_images)"
   ]
  },
  {
   "cell_type": "code",
   "execution_count": 17,
   "id": "83b386db",
   "metadata": {},
   "outputs": [],
   "source": [
    "new_train_images = resize('train', 32)\n",
    "new_valid_images = resize('valid', 32)\n",
    "new_test_images = resize('test', 32)"
   ]
  },
  {
   "cell_type": "code",
   "execution_count": 18,
   "id": "3c6071a8",
   "metadata": {},
   "outputs": [],
   "source": [
    "np.save(path + 'train_images_32', new_train_images)\n",
    "np.save(path + 'valid_images_32', new_valid_images)\n",
    "np.save(path + 'test_images_32', new_test_images)"
   ]
  },
  {
   "cell_type": "code",
   "execution_count": null,
   "id": "fe267ef4",
   "metadata": {},
   "outputs": [],
   "source": []
  }
 ],
 "metadata": {
  "kernelspec": {
   "display_name": "Python3.7 (Comp Img)",
   "language": "python",
   "name": "compimg"
  },
  "language_info": {
   "codemirror_mode": {
    "name": "ipython",
    "version": 3
   },
   "file_extension": ".py",
   "mimetype": "text/x-python",
   "name": "python",
   "nbconvert_exporter": "python",
   "pygments_lexer": "ipython3",
   "version": "3.7.13"
  }
 },
 "nbformat": 4,
 "nbformat_minor": 5
}
