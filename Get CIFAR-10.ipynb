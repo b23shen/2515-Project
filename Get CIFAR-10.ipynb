{
 "cells": [
  {
   "cell_type": "code",
   "execution_count": 101,
   "id": "b7f5776d",
   "metadata": {},
   "outputs": [],
   "source": [
    "import pickle\n",
    "import numpy as np\n",
    "\n",
    "train_images = []\n",
    "train_labels = []\n",
    "\n",
    "test_images = []\n",
    "test_labels = []"
   ]
  },
  {
   "cell_type": "code",
   "execution_count": 102,
   "id": "3f122974",
   "metadata": {},
   "outputs": [],
   "source": [
    "def extract(batch_name):\n",
    "    filename = './cifar-10-batches-py/' + batch_name\n",
    "    \n",
    "    with open(filename, 'rb') as f:\n",
    "        batch = pickle.load(f, encoding='bytes')\n",
    "    \n",
    "    images = []\n",
    "    \n",
    "    images_vec = batch.get(b'data')\n",
    "    labels = batch.get(b'labels')\n",
    "    \n",
    "    for i in range(images_vec.shape[0]):\n",
    "        images.append(np.moveaxis(images_vec[i].reshape((3, 32, 32)), 0, -1))\n",
    "    \n",
    "    return images, labels"
   ]
  },
  {
   "cell_type": "code",
   "execution_count": 103,
   "id": "bade2964",
   "metadata": {},
   "outputs": [],
   "source": [
    "for i in [1, 2, 3, 4]:\n",
    "    batch_images, batch_labels = extract('data_batch_' + str(i+1))\n",
    "    \n",
    "    train_images.extend(batch_images)\n",
    "    train_labels.extend(batch_labels)"
   ]
  },
  {
   "cell_type": "code",
   "execution_count": 104,
   "id": "9bf04ca9",
   "metadata": {},
   "outputs": [],
   "source": [
    "test_images, test_labels = extract('test_batch')"
   ]
  },
  {
   "cell_type": "code",
   "execution_count": 105,
   "id": "8d34f4be",
   "metadata": {},
   "outputs": [],
   "source": [
    "path = './CIFAR_10/'\n",
    "\n",
    "np.save(path + 'train_images_32', np.array(train_images))\n",
    "np.save(path + 'train_labels', np.array(train_labels))\n",
    "np.save(path + 'test_images_32', np.array(test_images))\n",
    "np.save(path + 'test_labels', np.array(test_labels))"
   ]
  },
  {
   "cell_type": "code",
   "execution_count": null,
   "id": "74bb3e7b",
   "metadata": {},
   "outputs": [],
   "source": []
  }
 ],
 "metadata": {
  "kernelspec": {
   "display_name": "Python3.7 (Comp Img)",
   "language": "python",
   "name": "compimg"
  },
  "language_info": {
   "codemirror_mode": {
    "name": "ipython",
    "version": 3
   },
   "file_extension": ".py",
   "mimetype": "text/x-python",
   "name": "python",
   "nbconvert_exporter": "python",
   "pygments_lexer": "ipython3",
   "version": "3.7.13"
  }
 },
 "nbformat": 4,
 "nbformat_minor": 5
}
