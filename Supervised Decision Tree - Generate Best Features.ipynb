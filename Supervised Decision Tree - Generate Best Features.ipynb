{
 "cells": [
  {
   "cell_type": "markdown",
   "id": "a719284f",
   "metadata": {},
   "source": [
    "# Project: Decision Trees"
   ]
  },
  {
   "cell_type": "markdown",
   "id": "0e9a4096",
   "metadata": {},
   "source": [
    "## Part a: feature generation"
   ]
  },
  {
   "cell_type": "code",
   "execution_count": 1,
   "id": "6985b594",
   "metadata": {},
   "outputs": [],
   "source": [
    "import numpy as np\n",
    "import pandas as pd\n",
    "from sklearn.feature_extraction.text import CountVectorizer\n",
    "from sklearn.model_selection import train_test_split\n",
    "import skimage.io as io\n",
    "from skimage import feature\n",
    "from skimage.color import rgb2gray\n",
    "from skimage.feature import hog\n",
    "from skimage import data, exposure\n",
    "import skimage\n",
    "import os\n",
    "import cv2\n",
    "from skimage.transform import rotate\n",
    "from skimage.feature import local_binary_pattern\n",
    "from skimage import data\n",
    "from skimage.color import label2rgb\n",
    "\n",
    "import numpy as np\n",
    "import skimage.io as io\n",
    "from skimage.color import rgb2hsv\n",
    "from skimage import data\n",
    "import matplotlib.pyplot as plt"
   ]
  },
  {
   "cell_type": "code",
   "execution_count": 2,
   "id": "3f323620",
   "metadata": {},
   "outputs": [],
   "source": [
    "# # You can change this part!!!\n",
    "# feature_name = 'LBP_corner'\n",
    "# dataset_name = 'Fast_Food'"
   ]
  },
  {
   "cell_type": "code",
   "execution_count": 3,
   "id": "ec256608",
   "metadata": {},
   "outputs": [],
   "source": [
    "def LBP(image, region):\n",
    "    METHOD = 'uniform'\n",
    "    plt.rcParams['font.size'] = 9\n",
    "\n",
    "    # settings for LBP\n",
    "    radius = 3\n",
    "    n_points = 8 * radius\n",
    "\n",
    "\n",
    "    def overlay_labels(image, lbp, labels):\n",
    "        mask = np.logical_or.reduce([lbp == each for each in labels])\n",
    "        return label2rgb(mask, image=image, bg_label=0, alpha=0.5)\n",
    "\n",
    "\n",
    "    def highlight_bars(bars, indexes):\n",
    "        for i in indexes:\n",
    "            bars[i].set_facecolor('r')\n",
    "\n",
    "    lbp = local_binary_pattern(image, n_points, radius, METHOD)\n",
    "\n",
    "    titles = ('edge', 'flat', 'corner')\n",
    "    w = width = radius - 1\n",
    "    edge_labels = range(n_points // 2 - w, n_points // 2 + w + 1)\n",
    "    flat_labels = list(range(0, w + 1)) + list(range(n_points - w, n_points + 2))\n",
    "    i_14 = n_points // 4            # 1/4th of the histogram\n",
    "    i_34 = 3 * (n_points // 4)      # 3/4th of the histogram\n",
    "    corner_labels = (list(range(i_14 - w, i_14 + w + 1)) +\n",
    "                     list(range(i_34 - w, i_34 + w + 1)))\n",
    "\n",
    "    label_sets = (edge_labels, flat_labels, corner_labels)\n",
    "    \n",
    "    if region == 'edge':\n",
    "        return overlay_labels(image, lbp, edge_labels)\n",
    "    elif region == 'flat':\n",
    "        return overlay_labels(image, lbp, flat_labels)\n",
    "    elif region == 'corner':\n",
    "        return overlay_labels(image, lbp, corner_labels)\n",
    "    else:\n",
    "        raise Exception(\"Can't recognize region name!!!\")"
   ]
  },
  {
   "cell_type": "code",
   "execution_count": 4,
   "id": "578dad86",
   "metadata": {},
   "outputs": [],
   "source": [
    "def get_features(image, feature_name):\n",
    "    if feature_name == 'raw':\n",
    "        return image.flatten()\n",
    "    elif feature_name == 'RGB':\n",
    "#         image = np.moveaxis(image, -1, 0)\n",
    "        hist = cv2.calcHist([image], [0, 1, 2], None, [16, 16, 16], [0, 256, 0, 256, 0, 256])\n",
    "        return hist.flatten()\n",
    "    elif feature_name == 'canny':\n",
    "        edges = feature.canny(rgb2gray(image), sigma=1)\n",
    "        return edges.flatten()\n",
    "    elif feature_name == 'hog':\n",
    "        _, hog_image = hog(image, orientations=8, pixels_per_cell=(16, 16), cells_per_block=(1, 1), visualize=True, channel_axis=-1)\n",
    "        hog_image_rescaled = exposure.rescale_intensity(hog_image, in_range=(0, 10))\n",
    "        return hog_image_rescaled.flatten()\n",
    "    elif feature_name == 'LBP_edge':\n",
    "        return LBP(rgb2gray(image), 'edge').flatten()\n",
    "    if feature_name == 'LBP_flat':\n",
    "        return LBP(rgb2gray(image), 'flat').flatten()\n",
    "    if feature_name == 'LBP_corner':\n",
    "        return LBP(rgb2gray(image), 'corner').flatten()\n",
    "    else:\n",
    "        raise Exception(\"Can't recognize feature name!!!\")"
   ]
  },
  {
   "cell_type": "code",
   "execution_count": 5,
   "id": "5f670b3a",
   "metadata": {},
   "outputs": [],
   "source": [
    "def process_data(images, labels, feature_name):\n",
    "    X = []\n",
    "    \n",
    "    raw_imgs = np.load(images, allow_pickle=True)\n",
    "    \n",
    "    y = np.load(labels, allow_pickle=True)\n",
    "    \n",
    "    for i in range(raw_imgs.shape[0]):\n",
    "        X.append(get_features(raw_imgs[i], feature_name))\n",
    "    \n",
    "    return np.array(X), y"
   ]
  },
  {
   "cell_type": "code",
   "execution_count": 6,
   "id": "5f34bf4a",
   "metadata": {},
   "outputs": [],
   "source": [
    "def get_dataset(dataset_name, feature_name):\n",
    "    if dataset_name == \"CIFAR_10\":\n",
    "        X_train, y_train = process_data('./' + dataset_name + \"/train_images_small_32.npy\", './' + dataset_name + \"/train_labels_small.npy\", feature_name)\n",
    "        X_valid, y_valid = process_data('./' + dataset_name + \"/train_images_32.npy\", './' + dataset_name + \"/train_labels.npy\", feature_name)\n",
    "    else:\n",
    "        X_train, y_train = process_data('./' + dataset_name + \"/train_images_32.npy\", dataset_name + \"/train_labels.npy\", feature_name)\n",
    "        X_valid, y_valid = process_data('./' + dataset_name + \"/valid_images_32.npy\", dataset_name + \"/valid_labels.npy\", feature_name)\n",
    "    \n",
    "    X_test, y_test = process_data('./' + dataset_name + \"/test_images_32.npy\", dataset_name + \"/test_labels.npy\", feature_name)\n",
    "    \n",
    "#     print(X_train.shape), print(y_train.shape)\n",
    "#     print(X_valid.shape), print(y_valid.shape)\n",
    "#     print(X_test.shape), print(y_test.shape)\n",
    "    \n",
    "    return X_train, y_train, X_valid, y_valid, X_test, y_test"
   ]
  },
  {
   "cell_type": "code",
   "execution_count": 7,
   "id": "e6c2a3b5",
   "metadata": {},
   "outputs": [],
   "source": [
    "# np.save(\"./X_train\", X_train)\n",
    "# np.save(\"./y_train\", y_train)\n",
    "# np.save(\"./X_test\", X_rem)\n",
    "# np.save(\"./y_test\", y_rem)"
   ]
  },
  {
   "cell_type": "markdown",
   "id": "4fe224af",
   "metadata": {},
   "source": [
    "## Part b: training"
   ]
  },
  {
   "cell_type": "code",
   "execution_count": 8,
   "id": "43d42506",
   "metadata": {},
   "outputs": [],
   "source": [
    "from sklearn.tree import DecisionTreeClassifier\n",
    "from sklearn import metrics"
   ]
  },
  {
   "cell_type": "code",
   "execution_count": 9,
   "id": "100a45bf",
   "metadata": {},
   "outputs": [],
   "source": [
    "def select_tree_model(model_num, max_depth, criteria, X_train, y_train, X_valid, y_valid):\n",
    "    clf = DecisionTreeClassifier(criterion=criteria, max_depth=max_depth)\n",
    "    \n",
    "    clf = clf.fit(X_train,y_train)\n",
    "    \n",
    "    y_pred = clf.predict(X_valid)\n",
    "    \n",
    "    accuracy = metrics.accuracy_score(y_valid, y_pred)\n",
    "    \n",
    "#     print(\"Model %s: when training with max_depth = %d and criterion = %s, the accuracy = %f\" % (model_num, max_depth, criteria, accuracy))\n",
    "    \n",
    "    return (clf, accuracy)"
   ]
  },
  {
   "cell_type": "code",
   "execution_count": 10,
   "id": "822d808b",
   "metadata": {},
   "outputs": [],
   "source": [
    "def train_model(X_train, y_train, X_valid, y_valid):\n",
    "    model_num = 1\n",
    "    clf_best = None\n",
    "    accuracy_best = -1\n",
    "    model_best = 0\n",
    "\n",
    "    for max_depth in [5, 10, 15, 20, 25]:\n",
    "        for criteria in ['gini', 'entropy']:\n",
    "            clf_curr, accuracy = select_tree_model(model_num, max_depth, criteria, X_train, y_train, X_valid, y_valid)\n",
    "\n",
    "            if accuracy > accuracy_best:\n",
    "                accuracy_best = accuracy\n",
    "                clf_best = clf_curr\n",
    "                model_best = model_num\n",
    "\n",
    "            model_num += 1\n",
    "\n",
    "#     print()\n",
    "#     print(\"The best model is model\", model_best, 'with the accuracy of', accuracy_best)\n",
    "    \n",
    "    return clf_best"
   ]
  },
  {
   "cell_type": "code",
   "execution_count": 11,
   "id": "1a4275f7",
   "metadata": {},
   "outputs": [],
   "source": [
    "# np.save(\"./X_train\", X_train)\n",
    "# np.save(\"./y_train\", y_train)\n",
    "# np.save(\"./X_valid\", X_valid)\n",
    "# np.save(\"./y_valid\", y_valid)\n",
    "# np.save(\"./X_test\", X_test)\n",
    "# np.save(\"./y_test\", y_test)"
   ]
  },
  {
   "cell_type": "markdown",
   "id": "8bb658f8",
   "metadata": {},
   "source": [
    "## Part c: evaluation"
   ]
  },
  {
   "cell_type": "code",
   "execution_count": 12,
   "id": "98dad382",
   "metadata": {},
   "outputs": [],
   "source": [
    "def validate_model(clf_best, X_test, y_test):\n",
    "    y_pred = clf_best.predict(X_test)\n",
    "\n",
    "    accuracy = metrics.accuracy_score(y_test, y_pred)\n",
    "\n",
    "#     print(\"The testing accuracy is\", accuracy)\n",
    "    \n",
    "    return accuracy"
   ]
  },
  {
   "cell_type": "markdown",
   "id": "be0a4a02",
   "metadata": {},
   "source": [
    "## Part d: Main Method"
   ]
  },
  {
   "cell_type": "code",
   "execution_count": 13,
   "id": "86cec5b0",
   "metadata": {},
   "outputs": [],
   "source": [
    "# # datasets = ['Shoes', 'Fast_Food', 'CIFAR_10']\n",
    "# datasets = ['CIFAR_10']\n",
    "# # features = ['raw', 'RGB', 'canny', 'hog', 'LBP_edge', 'LBP_flat', 'LBP_corner']\n",
    "# features = ['LBP_edge', 'LBP_flat', 'LBP_corner']"
   ]
  },
  {
   "cell_type": "code",
   "execution_count": 14,
   "id": "1fb43d62",
   "metadata": {},
   "outputs": [],
   "source": [
    "# for dataset in datasets:\n",
    "#     print(dataset + \":\")\n",
    "    \n",
    "#     for f in features:\n",
    "#         X_train, y_train, X_valid, y_valid, X_test, y_test = get_dataset(dataset, f)\n",
    "        \n",
    "#         clf_best = train_model(X_train, y_train, X_valid, y_valid)\n",
    "        \n",
    "#         best_accuracy = validate_model(clf_best, X_test, y_test)\n",
    "        \n",
    "#         print(f + \": \" + str(best_accuracy))"
   ]
  },
  {
   "cell_type": "code",
   "execution_count": 15,
   "id": "2f1affa7",
   "metadata": {},
   "outputs": [],
   "source": [
    "def merge_features(X_train_1, X_train_2, X_test_1, X_test_2):\n",
    "    return np.concatenate((X_train_1, X_train_2), axis=1), np.concatenate((X_test_1, X_test_2), axis=1)\n",
    "\n",
    "def save_features(dataset, feature, X_train, y_train, X_test, y_test):\n",
    "    path = \"./final_results/\" + dataset + \"/\" + feature\n",
    "    os.makedirs(path)\n",
    "    \n",
    "    np.save(path + './X_train_' + feature, X_train)\n",
    "    np.save(path + './y_train_' + feature, y_train)\n",
    "    np.save(path + './X_test_' + feature, X_test)\n",
    "    np.save(path + './y_test_' + feature, y_test)"
   ]
  },
  {
   "cell_type": "code",
   "execution_count": 19,
   "id": "d540f24f",
   "metadata": {},
   "outputs": [],
   "source": [
    "datasets = ['CIFAR_10']\n",
    "\n",
    "# os.makedirs(\"./final_results\")\n",
    "\n",
    "for dataset in datasets:\n",
    "    os.makedirs(\"./final_results/\" + dataset)\n",
    "    \n",
    "#     X_train_raw, y_train, X_valid_raw, y_valid, X_test_raw, y_test = get_dataset(dataset, 'raw')\n",
    "#     X_train_RGB, _, X_valid_RGB, _, X_test_RGB, _ = get_dataset(dataset, 'RGB')\n",
    "#     X_train_LBP_corner, _, X_valid_LBP_corner, _, X_test_LBP_corner, _ = get_dataset(dataset, 'LBP_corner')\n",
    "    X_train_raw, y_train, _, _, X_test_raw, y_test = get_dataset(dataset, 'raw')\n",
    "    X_train_RGB, _, _, _, X_test_RGB, _ = get_dataset(dataset, 'RGB')\n",
    "    X_train_LBP_corner, _, _, _, X_test_LBP_corner, _ = get_dataset(dataset, 'LBP_corner')\n",
    "    \n",
    "    X_train_raw_RGB, X_test_raw_RGB = merge_features(X_train_raw, X_train_RGB, X_test_raw, X_test_RGB)\n",
    "    X_train_raw_LBP_corner, X_test_raw_LBP_corner = merge_features(X_train_raw, X_train_LBP_corner, X_test_raw, X_test_LBP_corner)\n",
    "    X_train_RGB_LBP_corner, X_test_RGB_LBP_corner = merge_features(X_train_RGB, X_train_LBP_corner, X_test_RGB, X_test_LBP_corner)\n",
    "    \n",
    "    X_train_raw_RGB_LBP_corner, X_test_raw_RGB_LBP_corner = merge_features(X_train_raw_RGB, X_train_LBP_corner, X_test_raw_RGB, X_test_LBP_corner)\n",
    "    \n",
    "    save_features(dataset, \"raw\", X_train_raw, y_train, X_test_raw, y_test)\n",
    "    save_features(dataset, \"RGB\", X_train_RGB, y_train, X_test_RGB, y_test)\n",
    "    save_features(dataset, \"LBP_corner\", X_train_LBP_corner, y_train, X_test_LBP_corner, y_test)\n",
    "    save_features(dataset, \"raw_RGB\", X_train_raw_RGB, y_train, X_test_raw_RGB, y_test)\n",
    "    save_features(dataset, \"raw_LBP_corner\", X_train_raw_LBP_corner, y_train, X_test_raw_LBP_corner, y_test)\n",
    "    save_features(dataset, \"RGB_LBP_corner\", X_train_RGB_LBP_corner, y_train, X_test_RGB_LBP_corner, y_test)\n",
    "    save_features(dataset, \"raw_RGB_LBP_corner\", X_train_raw_RGB_LBP_corner, y_train, X_test_raw_RGB_LBP_corner, y_test)"
   ]
  },
  {
   "cell_type": "code",
   "execution_count": null,
   "id": "5bf8b099",
   "metadata": {},
   "outputs": [],
   "source": []
  }
 ],
 "metadata": {
  "kernelspec": {
   "display_name": "Python3.7 (Comp Img)",
   "language": "python",
   "name": "compimg"
  },
  "language_info": {
   "codemirror_mode": {
    "name": "ipython",
    "version": 3
   },
   "file_extension": ".py",
   "mimetype": "text/x-python",
   "name": "python",
   "nbconvert_exporter": "python",
   "pygments_lexer": "ipython3",
   "version": "3.7.13"
  }
 },
 "nbformat": 4,
 "nbformat_minor": 5
}
