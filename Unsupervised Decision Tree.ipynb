{
 "cells": [
  {
   "cell_type": "markdown",
   "id": "e06d7804",
   "metadata": {},
   "source": [
    "## Unsupervised Decision Tree"
   ]
  },
  {
   "cell_type": "code",
   "execution_count": 1,
   "id": "3d4652ba",
   "metadata": {},
   "outputs": [
    {
     "name": "stderr",
     "output_type": "stream",
     "text": [
      "/Library/Frameworks/Python.framework/Versions/3.8/lib/python3.8/site-packages/scipy/__init__.py:146: UserWarning: A NumPy version >=1.16.5 and <1.23.0 is required for this version of SciPy (detected version 1.23.4\n",
      "  warnings.warn(f\"A NumPy version >={np_minversion} and <{np_maxversion}\"\n"
     ]
    }
   ],
   "source": [
    "#Importing the required libraries\n",
    "import os\n",
    "import cv2\n",
    "import numpy as np\n",
    "import time\n",
    "import matplotlib.pyplot as plt\n",
    "from sklearn.svm import SVC\n",
    "from sklearn.model_selection import train_test_split\n",
    "from sklearn.metrics import accuracy_score, confusion_matrix\n",
    "import matplotlib.pyplot as plt\n",
    "from sklearn.tree import DecisionTreeRegressor\n",
    "from sklearn.tree import DecisionTreeClassifier\n",
    "from sklearn import tree\n",
    "from sklearn.cluster import KMeans\n",
    "from sklearn.preprocessing import normalize"
   ]
  },
  {
   "cell_type": "markdown",
   "id": "3a19f5b2",
   "metadata": {},
   "source": [
    "## DecisionTree: max_leaf_nodes = num of class"
   ]
  },
  {
   "cell_type": "code",
   "execution_count": 2,
   "id": "c3e6658d",
   "metadata": {},
   "outputs": [],
   "source": [
    "# Prepare dataset\n",
    "# CHANGE THIS\n",
    "X_train = np.load(\"./supervised/final_results/Shoes/RGB/X_train_RGB.npy\") \n",
    "X_test = np.load(\"./supervised/final_results/Shoes/RGB/X_test_RGB.npy\") \n",
    "y_test = np.load(\"./supervised/final_results/Shoes/RGB/y_test_RGB.npy\") \n",
    "y_train = np.load(\"./supervised/final_results/Shoes/RGB/y_train_RGB.npy\")"
   ]
  },
  {
   "cell_type": "code",
   "execution_count": 3,
   "id": "d7e45c21",
   "metadata": {},
   "outputs": [],
   "source": [
    "def train(X_train, X_test, y_test, y_train, number_of_class):\n",
    "    '''\n",
    "    We treat this as a regression problem, basically just treat the dataset as our label. \n",
    "    Spliting the decision tree based on the variance reduction rule.\n",
    "    Returns the test dataset with assigned cluster index\n",
    "    '''\n",
    "    # Regression Decision Tree\n",
    "    reg = DecisionTreeRegressor(criterion=\"squared_error\", max_leaf_nodes=number_of_class)\n",
    "    reg = reg.fit(X_train,X_train)\n",
    "    y_pred = reg.predict(X_test) #values in y_pred are cluster centers!\n",
    "    \n",
    "    unique = np.unique(y_pred, axis=0) # a numpy array with only unique clusters\n",
    "    \n",
    "    # assign a cluster index to our prediction points\n",
    "    cluster_index = np.zeros((y_pred.shape[0], )) \n",
    "    for i, cluster in enumerate(unique):\n",
    "        for j, datapoint in enumerate(y_pred):\n",
    "            if np.array_equal(datapoint, cluster):\n",
    "                cluster_index[j] = int(i)\n",
    "    return cluster_index\n",
    "\n",
    "def get_population_in_cluster_i(y_test, cluster_index, cluster_i ):\n",
    "    '''\n",
    "    This is function that returns the number of labels for cluster_i\n",
    "    '''\n",
    "    true_label, counts =  np.unique(y_test[np.where(np.array(cluster_index)==cluster_i)[0]], return_counts=True)\n",
    "    #add dummy into counts \n",
    "    for i in range(number_of_class):\n",
    "        if i not in true_label:\n",
    "            counts = np.insert(counts, i , 0)\n",
    "    return counts\n",
    "\n",
    "def label_assign(y_test, cluster_index):\n",
    "    '''\n",
    "    Perform two accuracy measurements\n",
    "    '''\n",
    "    \n",
    "    # Use the majority rule to assign a label to each cluster\n",
    "    \n",
    "    population_of_cluster = np.asmatrix([get_population_in_cluster_i(y_test, cluster_index,i) for i in range(number_of_class)])\n",
    "    # Assigned label for each cluster\n",
    "    labels = np.argmax(population_of_cluster,axis=1)\n",
    "    labels_simple = []\n",
    "    for i in np.array(labels):\n",
    "        labels_simple.append(i[0])\n",
    "    print(\"When using the simple majority rule to assign a label to each cluster:\")\n",
    "    for i, label in enumerate(labels_simple):\n",
    "        print(\"The label for cluster\", i, \"is:\", label)\n",
    "    \n",
    "    # Majority Rule with assigned weight\n",
    "    \n",
    "    #precentage_in_cluster = normalize(population_of_cluster, axis=1, norm='l1')\n",
    "    #print(precentage_in_cluster)\n",
    "    precentage_in_label = normalize(population_of_cluster, axis=0, norm='l1')\n",
    "    #print(precentage_in_label)\n",
    "    score_matrix = np.multiply(population_of_cluster,precentage_in_label)\n",
    "    #score_matrix\n",
    "    norm_score = normalize(score_matrix, axis=1, norm='l1')\n",
    "    labels_weight = np.argmax(norm_score, axis=1)\n",
    "    print(\"When using weighted majority rule to assign a label to each cluster:\")\n",
    "    for i, label in enumerate(labels_weight):\n",
    "        print(\"The label for cluster\", i, \"is:\", label)\n",
    "    \n",
    "    return labels_simple, labels_weight\n",
    "    \n",
    "def get_accuracy(cluster_new_label, cluster_index, y_test):\n",
    "    labels = [cluster_new_label[int(ci)] for ci in cluster_index]\n",
    "    return accuracy_score(y_test, labels)\n",
    "    "
   ]
  },
  {
   "cell_type": "markdown",
   "id": "250cf296",
   "metadata": {},
   "source": [
    "What you need to save: cluster_index, labels_simple, labels_weight, accuracy_simple, accuracy_weight FOR BOTH TWO METHODS.\n",
    "\n",
    "If you don't want printed results, comment all print in the function definition"
   ]
  },
  {
   "cell_type": "code",
   "execution_count": 4,
   "id": "9e6f6236",
   "metadata": {},
   "outputs": [
    {
     "name": "stdout",
     "output_type": "stream",
     "text": [
      "When using the simple majority rule to assign a label to each cluster:\n",
      "The label for cluster 0 is: 3\n",
      "The label for cluster 1 is: 2\n",
      "The label for cluster 2 is: 3\n",
      "The label for cluster 3 is: 3\n",
      "The label for cluster 4 is: 3\n",
      "When using weighted majority rule to assign a label to each cluster:\n",
      "The label for cluster 0 is: 3\n",
      "The label for cluster 1 is: 2\n",
      "The label for cluster 2 is: 3\n",
      "The label for cluster 3 is: 4\n",
      "The label for cluster 4 is: 3\n",
      "Accuracy score using unweighted labeling method 0.351440329218107\n",
      "Accuracy score using weighted labeling method 0.345679012345679\n"
     ]
    },
    {
     "name": "stderr",
     "output_type": "stream",
     "text": [
      "/Library/Frameworks/Python.framework/Versions/3.8/lib/python3.8/site-packages/sklearn/utils/validation.py:585: FutureWarning: np.matrix usage is deprecated in 1.0 and will raise a TypeError in 1.2. Please convert to a numpy array with np.asarray. For more information see: https://numpy.org/doc/stable/reference/generated/numpy.matrix.html\n",
      "  warnings.warn(\n",
      "/Library/Frameworks/Python.framework/Versions/3.8/lib/python3.8/site-packages/sklearn/utils/validation.py:585: FutureWarning: np.matrix usage is deprecated in 1.0 and will raise a TypeError in 1.2. Please convert to a numpy array with np.asarray. For more information see: https://numpy.org/doc/stable/reference/generated/numpy.matrix.html\n",
      "  warnings.warn(\n"
     ]
    }
   ],
   "source": [
    "# Wrapper function\n",
    "number_of_class = len(np.unique(y_test))\n",
    "cluster_index = train(X_train, X_test, y_test, y_train, number_of_class)\n",
    "labels_simple, labels_weight = label_assign(y_test, cluster_index)\n",
    "\n",
    "accuracy_simple = get_accuracy(labels_simple, cluster_index, y_test)\n",
    "accuracy_weight = get_accuracy(labels_weight, cluster_index, y_test)\n",
    "print(\"Accuracy score using unweighted labeling method\", accuracy_simple)\n",
    "print(\"Accuracy score using weighted labeling method\", accuracy_weight)"
   ]
  },
  {
   "cell_type": "markdown",
   "id": "9f15021c",
   "metadata": {},
   "source": [
    "## Decision Tree: Merge clusters"
   ]
  },
  {
   "cell_type": "code",
   "execution_count": 5,
   "id": "ca967a6b",
   "metadata": {},
   "outputs": [],
   "source": [
    "def train_merge(X_train, X_test, y_test, y_train, number_of_class):\n",
    "    reg = DecisionTreeRegressor(criterion=\"squared_error\", max_leaf_nodes=50)\n",
    "    reg = reg.fit(X_train,X_train)\n",
    "    y_pred = reg.predict(X_test)\n",
    "    \n",
    "    # Regroup using KMeans\n",
    "    kmeans = KMeans(n_clusters=number_of_class,random_state=0).fit(y_pred)\n",
    "    cluster_index = kmeans.labels_\n",
    "    return cluster_index\n",
    "    "
   ]
  },
  {
   "cell_type": "code",
   "execution_count": 6,
   "id": "89e8e2da",
   "metadata": {},
   "outputs": [
    {
     "name": "stdout",
     "output_type": "stream",
     "text": [
      "When using the simple majority rule to assign a label to each cluster:\n",
      "The label for cluster 0 is: 3\n",
      "The label for cluster 1 is: 3\n",
      "The label for cluster 2 is: 3\n",
      "The label for cluster 3 is: 3\n",
      "The label for cluster 4 is: 2\n",
      "When using weighted majority rule to assign a label to each cluster:\n",
      "The label for cluster 0 is: 3\n",
      "The label for cluster 1 is: 3\n",
      "The label for cluster 2 is: 4\n",
      "The label for cluster 3 is: 3\n",
      "The label for cluster 4 is: 2\n",
      "Accuracy score using unweighted labeling method 0.351440329218107\n",
      "Accuracy score using weighted labeling method 0.345679012345679\n"
     ]
    },
    {
     "name": "stderr",
     "output_type": "stream",
     "text": [
      "/Library/Frameworks/Python.framework/Versions/3.8/lib/python3.8/site-packages/sklearn/utils/validation.py:585: FutureWarning: np.matrix usage is deprecated in 1.0 and will raise a TypeError in 1.2. Please convert to a numpy array with np.asarray. For more information see: https://numpy.org/doc/stable/reference/generated/numpy.matrix.html\n",
      "  warnings.warn(\n",
      "/Library/Frameworks/Python.framework/Versions/3.8/lib/python3.8/site-packages/sklearn/utils/validation.py:585: FutureWarning: np.matrix usage is deprecated in 1.0 and will raise a TypeError in 1.2. Please convert to a numpy array with np.asarray. For more information see: https://numpy.org/doc/stable/reference/generated/numpy.matrix.html\n",
      "  warnings.warn(\n"
     ]
    }
   ],
   "source": [
    "# Wrapper function\n",
    "number_of_class = len(np.unique(y_test))\n",
    "cluster_index = train_merge(X_train, X_test, y_test, y_train, number_of_class)\n",
    "labels_simple, labels_weight = label_assign(y_test, cluster_index)\n",
    "\n",
    "accuracy_simple = get_accuracy(labels_simple, cluster_index, y_test)\n",
    "accuracy_weight = get_accuracy(labels_weight, cluster_index, y_test)\n",
    "print(\"Accuracy score using unweighted labeling method\", accuracy_simple)\n",
    "print(\"Accuracy score using weighted labeling method\", accuracy_weight)"
   ]
  }
 ],
 "metadata": {
  "kernelspec": {
   "display_name": "Python 3 (ipykernel)",
   "language": "python",
   "name": "python3"
  },
  "language_info": {
   "codemirror_mode": {
    "name": "ipython",
    "version": 3
   },
   "file_extension": ".py",
   "mimetype": "text/x-python",
   "name": "python",
   "nbconvert_exporter": "python",
   "pygments_lexer": "ipython3",
   "version": "3.8.5"
  }
 },
 "nbformat": 4,
 "nbformat_minor": 5
}
