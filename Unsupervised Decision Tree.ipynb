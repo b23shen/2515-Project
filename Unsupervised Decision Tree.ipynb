{
 "cells": [
  {
   "cell_type": "markdown",
   "id": "e06d7804",
   "metadata": {},
   "source": [
    "## Unsupervised Decision Tree"
   ]
  },
  {
   "cell_type": "code",
   "execution_count": 59,
   "id": "3d4652ba",
   "metadata": {},
   "outputs": [],
   "source": [
    "#Importing the required libraries\n",
    "import os\n",
    "import cv2\n",
    "import numpy as np\n",
    "import time\n",
    "import matplotlib.pyplot as plt\n",
    "from sklearn.svm import SVC\n",
    "from sklearn.model_selection import train_test_split\n",
    "from sklearn.metrics import accuracy_score, confusion_matrix\n",
    "import matplotlib.pyplot as plt\n",
    "from sklearn.tree import DecisionTreeRegressor\n",
    "from sklearn.tree import DecisionTreeClassifier\n",
    "from sklearn import tree\n",
    "from sklearn.cluster import KMeans\n",
    "from sklearn.preprocessing import normalize"
   ]
  },
  {
   "cell_type": "code",
   "execution_count": 60,
   "id": "b5c7f4e2",
   "metadata": {},
   "outputs": [],
   "source": [
    "datasets = ['Shoes', 'Fast_Food', 'CIFAR_10']\n",
    "features = ['raw', 'RGB', 'LBP_corner', 'raw_RGB', 'raw_LBP_corner', 'RGB_LBP_corner', 'raw_RGB_LBP_corner']\n",
    "\n",
    "input_dir = \"./supervised_results/\"\n",
    "output_dir = \"./unsupervised_results/\""
   ]
  },
  {
   "cell_type": "code",
   "execution_count": 61,
   "id": "0fcf068e",
   "metadata": {},
   "outputs": [],
   "source": [
    "def load_data(dataset, feature):\n",
    "    X_train = np.load(input_dir + dataset + \"/\" + feature + \"/X_train_\" + feature + \".npy\")\n",
    "    X_test = np.load(input_dir + dataset + \"/\" + feature + \"/X_test_\" + feature + \".npy\")\n",
    "    y_train = np.load(input_dir + dataset + \"/\" + feature + \"/y_train_\" + feature + \".npy\")\n",
    "    y_test = np.load(input_dir + dataset + \"/\" + feature + \"/y_test_\" + feature + \".npy\")\n",
    "    \n",
    "    return X_train, X_test, y_train, y_test"
   ]
  },
  {
   "cell_type": "markdown",
   "id": "3a19f5b2",
   "metadata": {},
   "source": [
    "## DecisionTree: max_leaf_nodes = num of class"
   ]
  },
  {
   "cell_type": "code",
   "execution_count": 62,
   "id": "c3e6658d",
   "metadata": {},
   "outputs": [],
   "source": [
    "# # Prepare dataset\n",
    "# # CHANGE THIS\n",
    "# X_train = np.load(\"./supervised/final_results/Shoes/RGB/X_train_RGB.npy\")\n",
    "# X_test = np.load(\"./supervised/final_results/Shoes/RGB/X_test_RGB.npy\")\n",
    "# y_test = np.load(\"./supervised/final_results/Shoes/RGB/y_test_RGB.npy\")\n",
    "# y_train = np.load(\"./supervised/final_results/Shoes/RGB/y_train_RGB.npy\")"
   ]
  },
  {
   "cell_type": "code",
   "execution_count": 63,
   "id": "d7e45c21",
   "metadata": {},
   "outputs": [],
   "source": [
    "def train(X_train, X_test, y_test, y_train, number_of_class):\n",
    "    '''\n",
    "    We treat this as a regression problem, basically just treat the dataset as our label. \n",
    "    Spliting the decision tree based on the variance reduction rule.\n",
    "    Returns the test dataset with assigned cluster index\n",
    "    '''\n",
    "    # Regression Decision Tree\n",
    "    reg = DecisionTreeRegressor(criterion=\"squared_error\", max_leaf_nodes=number_of_class)\n",
    "    reg = reg.fit(X_train,X_train)\n",
    "    y_pred = reg.predict(X_test) #values in y_pred are cluster centers!\n",
    "    \n",
    "    unique = np.unique(y_pred, axis=0) # a numpy array with only unique clusters\n",
    "    \n",
    "    # assign a cluster index to our prediction points\n",
    "    cluster_index = np.zeros((y_pred.shape[0], )) \n",
    "    for i, cluster in enumerate(unique):\n",
    "        for j, datapoint in enumerate(y_pred):\n",
    "            if np.array_equal(datapoint, cluster):\n",
    "                cluster_index[j] = int(i)\n",
    "    return cluster_index\n",
    "\n",
    "def get_population_in_cluster_i(number_of_class, y_test, cluster_index, cluster_i):\n",
    "    '''\n",
    "    This is function that returns the number of labels for cluster_i\n",
    "    '''\n",
    "    true_label, counts =  np.unique(y_test[np.where(np.array(cluster_index)==cluster_i)[0]], return_counts=True)\n",
    "    #add dummy into counts \n",
    "    for i in range(number_of_class):\n",
    "        if i not in true_label:\n",
    "            counts = np.insert(counts, i , 0)\n",
    "    return counts\n",
    "\n",
    "def label_assign(y_test, cluster_index, number_of_class):\n",
    "    '''\n",
    "    Perform two accuracy measurements\n",
    "    '''\n",
    "    \n",
    "    # Use the majority rule to assign a label to each cluster\n",
    "    \n",
    "    population_of_cluster = np.asmatrix([get_population_in_cluster_i(number_of_class, y_test, cluster_index, i) for i in range(number_of_class)])\n",
    "    # Assigned label for each cluster\n",
    "    labels = np.argmax(population_of_cluster,axis=1)\n",
    "    labels_simple = []\n",
    "    for i in np.array(labels):\n",
    "        labels_simple.append(i[0])\n",
    "#     print(\"When using the simple majority rule to assign a label to each cluster:\")\n",
    "#     for i, label in enumerate(labels_simple):\n",
    "#         print(\"The label for cluster\", i, \"is:\", label)\n",
    "    \n",
    "    # Majority Rule with assigned weight\n",
    "    \n",
    "    #precentage_in_cluster = normalize(population_of_cluster, axis=1, norm='l1')\n",
    "    #print(precentage_in_cluster)\n",
    "    precentage_in_label = normalize(population_of_cluster, axis=0, norm='l1')\n",
    "    #print(precentage_in_label)\n",
    "    score_matrix = np.multiply(population_of_cluster,precentage_in_label)\n",
    "    #score_matrix\n",
    "    norm_score = normalize(score_matrix, axis=1, norm='l1')\n",
    "    labels_weight = np.argmax(norm_score, axis=1)\n",
    "#     print(\"When using weighted majority rule to assign a label to each cluster:\")\n",
    "#     for i, label in enumerate(labels_weight):\n",
    "#         print(\"The label for cluster\", i, \"is:\", label)\n",
    "    \n",
    "    return labels_simple, labels_weight\n",
    "    \n",
    "def get_accuracy(cluster_new_label, cluster_index, y_test):\n",
    "    labels = [cluster_new_label[int(ci)] for ci in cluster_index]\n",
    "    return accuracy_score(y_test, labels)\n",
    "    "
   ]
  },
  {
   "cell_type": "markdown",
   "id": "250cf296",
   "metadata": {},
   "source": [
    "What you need to save: cluster_index, labels_simple, labels_weight, accuracy_simple, accuracy_weight FOR BOTH TWO METHODS.\n",
    "\n",
    "If you don't want printed results, comment all print in the function definition"
   ]
  },
  {
   "cell_type": "code",
   "execution_count": 64,
   "id": "9e6f6236",
   "metadata": {},
   "outputs": [],
   "source": [
    "def no_regroup(dataset, feature, X_train, X_test, y_train, y_test):\n",
    "    # Wrapper function\n",
    "    number_of_class = len(np.unique(y_test))\n",
    "    cluster_index = train(X_train, X_test, y_test, y_train, number_of_class)\n",
    "    labels_simple, labels_weight = label_assign(y_test, cluster_index, number_of_class)\n",
    "\n",
    "    accuracy_simple = get_accuracy(labels_simple, cluster_index, y_test)\n",
    "    accuracy_weight = get_accuracy(labels_weight, cluster_index, y_test)\n",
    "#     print(\"Accuracy score using unweighted labeling method\", accuracy_simple)\n",
    "#     print(\"Accuracy score using weighted labeling method\", accuracy_weight)\n",
    "\n",
    "    path = output_dir + dataset + \"/\" + feature + \"/no_regroup/\"\n",
    "    os.makedirs(path)\n",
    "    \n",
    "    np.save(path + \"cluster_index\", cluster_index)\n",
    "    np.save(path + \"labels_simple\", labels_simple)\n",
    "    np.save(path + \"labels_weight\", labels_weight)\n",
    "    \n",
    "    with open(path + 'readme.txt', 'w') as f:\n",
    "        f.write('accuracy_simple = ' + str(accuracy_simple) + '\\n')\n",
    "        f.write('accuracy_weight = ' + str(accuracy_weight) + '\\n')"
   ]
  },
  {
   "cell_type": "markdown",
   "id": "9f15021c",
   "metadata": {},
   "source": [
    "## Decision Tree: Merge clusters"
   ]
  },
  {
   "cell_type": "code",
   "execution_count": 65,
   "id": "ca967a6b",
   "metadata": {},
   "outputs": [],
   "source": [
    "def train_merge(X_train, X_test, y_test, y_train, number_of_class):\n",
    "    reg = DecisionTreeRegressor(criterion=\"squared_error\", max_leaf_nodes=50)\n",
    "    reg = reg.fit(X_train,X_train)\n",
    "    y_pred = reg.predict(X_test)\n",
    "    \n",
    "    # Regroup using KMeans\n",
    "    kmeans = KMeans(n_clusters=number_of_class,random_state=0).fit(y_pred)\n",
    "    cluster_index = kmeans.labels_\n",
    "    return cluster_index"
   ]
  },
  {
   "cell_type": "code",
   "execution_count": 66,
   "id": "89e8e2da",
   "metadata": {},
   "outputs": [],
   "source": [
    "def regroup(dataset, feature, X_train, X_test, y_train, y_test):\n",
    "    # Wrapper function\n",
    "    number_of_class = len(np.unique(y_test))\n",
    "    cluster_index = train_merge(X_train, X_test, y_test, y_train, number_of_class)\n",
    "    labels_simple, labels_weight = label_assign(y_test, cluster_index, number_of_class)\n",
    "\n",
    "    accuracy_simple = get_accuracy(labels_simple, cluster_index, y_test)\n",
    "    accuracy_weight = get_accuracy(labels_weight, cluster_index, y_test)\n",
    "#     print(\"Accuracy score using unweighted labeling method\", accuracy_simple)\n",
    "#     print(\"Accuracy score using weighted labeling method\", accuracy_weight)\n",
    "\n",
    "    path = output_dir + dataset + \"/\" + feature + \"/regroup/\"\n",
    "    os.makedirs(path)\n",
    "    \n",
    "    np.save(path + \"cluster_index\", cluster_index)\n",
    "    np.save(path + \"labels_simple\", labels_simple)\n",
    "    np.save(path + \"labels_weight\", labels_weight)\n",
    "    \n",
    "    with open(path + 'readme.txt', 'w') as f:\n",
    "        f.write('accuracy_simple = ' + str(accuracy_simple) + '\\n')\n",
    "        f.write('accuracy_weight = ' + str(accuracy_weight) + '\\n')"
   ]
  },
  {
   "cell_type": "code",
   "execution_count": null,
   "id": "f6840798",
   "metadata": {},
   "outputs": [],
   "source": []
  },
  {
   "cell_type": "code",
   "execution_count": null,
   "id": "8d6f119e",
   "metadata": {},
   "outputs": [
    {
     "name": "stderr",
     "output_type": "stream",
     "text": [
      "C:\\Users\\charl\\anaconda3\\envs\\compimg\\lib\\site-packages\\sklearn\\utils\\validation.py:598: FutureWarning: np.matrix usage is deprecated in 1.0 and will raise a TypeError in 1.2. Please convert to a numpy array with np.asarray. For more information see: https://numpy.org/doc/stable/reference/generated/numpy.matrix.html\n",
      "  FutureWarning,\n",
      "C:\\Users\\charl\\anaconda3\\envs\\compimg\\lib\\site-packages\\sklearn\\utils\\validation.py:598: FutureWarning: np.matrix usage is deprecated in 1.0 and will raise a TypeError in 1.2. Please convert to a numpy array with np.asarray. For more information see: https://numpy.org/doc/stable/reference/generated/numpy.matrix.html\n",
      "  FutureWarning,\n",
      "C:\\Users\\charl\\anaconda3\\envs\\compimg\\lib\\site-packages\\sklearn\\utils\\validation.py:598: FutureWarning: np.matrix usage is deprecated in 1.0 and will raise a TypeError in 1.2. Please convert to a numpy array with np.asarray. For more information see: https://numpy.org/doc/stable/reference/generated/numpy.matrix.html\n",
      "  FutureWarning,\n",
      "C:\\Users\\charl\\anaconda3\\envs\\compimg\\lib\\site-packages\\sklearn\\utils\\validation.py:598: FutureWarning: np.matrix usage is deprecated in 1.0 and will raise a TypeError in 1.2. Please convert to a numpy array with np.asarray. For more information see: https://numpy.org/doc/stable/reference/generated/numpy.matrix.html\n",
      "  FutureWarning,\n"
     ]
    },
    {
     "name": "stdout",
     "output_type": "stream",
     "text": [
      "0\n"
     ]
    },
    {
     "name": "stderr",
     "output_type": "stream",
     "text": [
      "C:\\Users\\charl\\anaconda3\\envs\\compimg\\lib\\site-packages\\sklearn\\utils\\validation.py:598: FutureWarning: np.matrix usage is deprecated in 1.0 and will raise a TypeError in 1.2. Please convert to a numpy array with np.asarray. For more information see: https://numpy.org/doc/stable/reference/generated/numpy.matrix.html\n",
      "  FutureWarning,\n",
      "C:\\Users\\charl\\anaconda3\\envs\\compimg\\lib\\site-packages\\sklearn\\utils\\validation.py:598: FutureWarning: np.matrix usage is deprecated in 1.0 and will raise a TypeError in 1.2. Please convert to a numpy array with np.asarray. For more information see: https://numpy.org/doc/stable/reference/generated/numpy.matrix.html\n",
      "  FutureWarning,\n",
      "C:\\Users\\charl\\anaconda3\\envs\\compimg\\lib\\site-packages\\sklearn\\utils\\validation.py:598: FutureWarning: np.matrix usage is deprecated in 1.0 and will raise a TypeError in 1.2. Please convert to a numpy array with np.asarray. For more information see: https://numpy.org/doc/stable/reference/generated/numpy.matrix.html\n",
      "  FutureWarning,\n",
      "C:\\Users\\charl\\anaconda3\\envs\\compimg\\lib\\site-packages\\sklearn\\utils\\validation.py:598: FutureWarning: np.matrix usage is deprecated in 1.0 and will raise a TypeError in 1.2. Please convert to a numpy array with np.asarray. For more information see: https://numpy.org/doc/stable/reference/generated/numpy.matrix.html\n",
      "  FutureWarning,\n"
     ]
    },
    {
     "name": "stdout",
     "output_type": "stream",
     "text": [
      "1\n"
     ]
    },
    {
     "name": "stderr",
     "output_type": "stream",
     "text": [
      "C:\\Users\\charl\\anaconda3\\envs\\compimg\\lib\\site-packages\\sklearn\\utils\\validation.py:598: FutureWarning: np.matrix usage is deprecated in 1.0 and will raise a TypeError in 1.2. Please convert to a numpy array with np.asarray. For more information see: https://numpy.org/doc/stable/reference/generated/numpy.matrix.html\n",
      "  FutureWarning,\n",
      "C:\\Users\\charl\\anaconda3\\envs\\compimg\\lib\\site-packages\\sklearn\\utils\\validation.py:598: FutureWarning: np.matrix usage is deprecated in 1.0 and will raise a TypeError in 1.2. Please convert to a numpy array with np.asarray. For more information see: https://numpy.org/doc/stable/reference/generated/numpy.matrix.html\n",
      "  FutureWarning,\n",
      "C:\\Users\\charl\\anaconda3\\envs\\compimg\\lib\\site-packages\\sklearn\\utils\\validation.py:598: FutureWarning: np.matrix usage is deprecated in 1.0 and will raise a TypeError in 1.2. Please convert to a numpy array with np.asarray. For more information see: https://numpy.org/doc/stable/reference/generated/numpy.matrix.html\n",
      "  FutureWarning,\n",
      "C:\\Users\\charl\\anaconda3\\envs\\compimg\\lib\\site-packages\\sklearn\\utils\\validation.py:598: FutureWarning: np.matrix usage is deprecated in 1.0 and will raise a TypeError in 1.2. Please convert to a numpy array with np.asarray. For more information see: https://numpy.org/doc/stable/reference/generated/numpy.matrix.html\n",
      "  FutureWarning,\n"
     ]
    },
    {
     "name": "stdout",
     "output_type": "stream",
     "text": [
      "2\n"
     ]
    },
    {
     "name": "stderr",
     "output_type": "stream",
     "text": [
      "C:\\Users\\charl\\anaconda3\\envs\\compimg\\lib\\site-packages\\sklearn\\utils\\validation.py:598: FutureWarning: np.matrix usage is deprecated in 1.0 and will raise a TypeError in 1.2. Please convert to a numpy array with np.asarray. For more information see: https://numpy.org/doc/stable/reference/generated/numpy.matrix.html\n",
      "  FutureWarning,\n",
      "C:\\Users\\charl\\anaconda3\\envs\\compimg\\lib\\site-packages\\sklearn\\utils\\validation.py:598: FutureWarning: np.matrix usage is deprecated in 1.0 and will raise a TypeError in 1.2. Please convert to a numpy array with np.asarray. For more information see: https://numpy.org/doc/stable/reference/generated/numpy.matrix.html\n",
      "  FutureWarning,\n",
      "C:\\Users\\charl\\anaconda3\\envs\\compimg\\lib\\site-packages\\sklearn\\utils\\validation.py:598: FutureWarning: np.matrix usage is deprecated in 1.0 and will raise a TypeError in 1.2. Please convert to a numpy array with np.asarray. For more information see: https://numpy.org/doc/stable/reference/generated/numpy.matrix.html\n",
      "  FutureWarning,\n",
      "C:\\Users\\charl\\anaconda3\\envs\\compimg\\lib\\site-packages\\sklearn\\utils\\validation.py:598: FutureWarning: np.matrix usage is deprecated in 1.0 and will raise a TypeError in 1.2. Please convert to a numpy array with np.asarray. For more information see: https://numpy.org/doc/stable/reference/generated/numpy.matrix.html\n",
      "  FutureWarning,\n"
     ]
    },
    {
     "name": "stdout",
     "output_type": "stream",
     "text": [
      "3\n"
     ]
    },
    {
     "name": "stderr",
     "output_type": "stream",
     "text": [
      "C:\\Users\\charl\\anaconda3\\envs\\compimg\\lib\\site-packages\\sklearn\\utils\\validation.py:598: FutureWarning: np.matrix usage is deprecated in 1.0 and will raise a TypeError in 1.2. Please convert to a numpy array with np.asarray. For more information see: https://numpy.org/doc/stable/reference/generated/numpy.matrix.html\n",
      "  FutureWarning,\n",
      "C:\\Users\\charl\\anaconda3\\envs\\compimg\\lib\\site-packages\\sklearn\\utils\\validation.py:598: FutureWarning: np.matrix usage is deprecated in 1.0 and will raise a TypeError in 1.2. Please convert to a numpy array with np.asarray. For more information see: https://numpy.org/doc/stable/reference/generated/numpy.matrix.html\n",
      "  FutureWarning,\n",
      "C:\\Users\\charl\\anaconda3\\envs\\compimg\\lib\\site-packages\\sklearn\\utils\\validation.py:598: FutureWarning: np.matrix usage is deprecated in 1.0 and will raise a TypeError in 1.2. Please convert to a numpy array with np.asarray. For more information see: https://numpy.org/doc/stable/reference/generated/numpy.matrix.html\n",
      "  FutureWarning,\n",
      "C:\\Users\\charl\\anaconda3\\envs\\compimg\\lib\\site-packages\\sklearn\\utils\\validation.py:598: FutureWarning: np.matrix usage is deprecated in 1.0 and will raise a TypeError in 1.2. Please convert to a numpy array with np.asarray. For more information see: https://numpy.org/doc/stable/reference/generated/numpy.matrix.html\n",
      "  FutureWarning,\n"
     ]
    },
    {
     "name": "stdout",
     "output_type": "stream",
     "text": [
      "4\n"
     ]
    },
    {
     "name": "stderr",
     "output_type": "stream",
     "text": [
      "C:\\Users\\charl\\anaconda3\\envs\\compimg\\lib\\site-packages\\sklearn\\utils\\validation.py:598: FutureWarning: np.matrix usage is deprecated in 1.0 and will raise a TypeError in 1.2. Please convert to a numpy array with np.asarray. For more information see: https://numpy.org/doc/stable/reference/generated/numpy.matrix.html\n",
      "  FutureWarning,\n",
      "C:\\Users\\charl\\anaconda3\\envs\\compimg\\lib\\site-packages\\sklearn\\utils\\validation.py:598: FutureWarning: np.matrix usage is deprecated in 1.0 and will raise a TypeError in 1.2. Please convert to a numpy array with np.asarray. For more information see: https://numpy.org/doc/stable/reference/generated/numpy.matrix.html\n",
      "  FutureWarning,\n",
      "C:\\Users\\charl\\anaconda3\\envs\\compimg\\lib\\site-packages\\sklearn\\utils\\validation.py:598: FutureWarning: np.matrix usage is deprecated in 1.0 and will raise a TypeError in 1.2. Please convert to a numpy array with np.asarray. For more information see: https://numpy.org/doc/stable/reference/generated/numpy.matrix.html\n",
      "  FutureWarning,\n",
      "C:\\Users\\charl\\anaconda3\\envs\\compimg\\lib\\site-packages\\sklearn\\utils\\validation.py:598: FutureWarning: np.matrix usage is deprecated in 1.0 and will raise a TypeError in 1.2. Please convert to a numpy array with np.asarray. For more information see: https://numpy.org/doc/stable/reference/generated/numpy.matrix.html\n",
      "  FutureWarning,\n"
     ]
    },
    {
     "name": "stdout",
     "output_type": "stream",
     "text": [
      "5\n"
     ]
    },
    {
     "name": "stderr",
     "output_type": "stream",
     "text": [
      "C:\\Users\\charl\\anaconda3\\envs\\compimg\\lib\\site-packages\\sklearn\\utils\\validation.py:598: FutureWarning: np.matrix usage is deprecated in 1.0 and will raise a TypeError in 1.2. Please convert to a numpy array with np.asarray. For more information see: https://numpy.org/doc/stable/reference/generated/numpy.matrix.html\n",
      "  FutureWarning,\n",
      "C:\\Users\\charl\\anaconda3\\envs\\compimg\\lib\\site-packages\\sklearn\\utils\\validation.py:598: FutureWarning: np.matrix usage is deprecated in 1.0 and will raise a TypeError in 1.2. Please convert to a numpy array with np.asarray. For more information see: https://numpy.org/doc/stable/reference/generated/numpy.matrix.html\n",
      "  FutureWarning,\n",
      "C:\\Users\\charl\\anaconda3\\envs\\compimg\\lib\\site-packages\\sklearn\\utils\\validation.py:598: FutureWarning: np.matrix usage is deprecated in 1.0 and will raise a TypeError in 1.2. Please convert to a numpy array with np.asarray. For more information see: https://numpy.org/doc/stable/reference/generated/numpy.matrix.html\n",
      "  FutureWarning,\n",
      "C:\\Users\\charl\\anaconda3\\envs\\compimg\\lib\\site-packages\\sklearn\\utils\\validation.py:598: FutureWarning: np.matrix usage is deprecated in 1.0 and will raise a TypeError in 1.2. Please convert to a numpy array with np.asarray. For more information see: https://numpy.org/doc/stable/reference/generated/numpy.matrix.html\n",
      "  FutureWarning,\n"
     ]
    },
    {
     "name": "stdout",
     "output_type": "stream",
     "text": [
      "6\n"
     ]
    },
    {
     "name": "stderr",
     "output_type": "stream",
     "text": [
      "C:\\Users\\charl\\anaconda3\\envs\\compimg\\lib\\site-packages\\sklearn\\utils\\validation.py:598: FutureWarning: np.matrix usage is deprecated in 1.0 and will raise a TypeError in 1.2. Please convert to a numpy array with np.asarray. For more information see: https://numpy.org/doc/stable/reference/generated/numpy.matrix.html\n",
      "  FutureWarning,\n",
      "C:\\Users\\charl\\anaconda3\\envs\\compimg\\lib\\site-packages\\sklearn\\utils\\validation.py:598: FutureWarning: np.matrix usage is deprecated in 1.0 and will raise a TypeError in 1.2. Please convert to a numpy array with np.asarray. For more information see: https://numpy.org/doc/stable/reference/generated/numpy.matrix.html\n",
      "  FutureWarning,\n",
      "C:\\Users\\charl\\anaconda3\\envs\\compimg\\lib\\site-packages\\sklearn\\utils\\validation.py:598: FutureWarning: np.matrix usage is deprecated in 1.0 and will raise a TypeError in 1.2. Please convert to a numpy array with np.asarray. For more information see: https://numpy.org/doc/stable/reference/generated/numpy.matrix.html\n",
      "  FutureWarning,\n",
      "C:\\Users\\charl\\anaconda3\\envs\\compimg\\lib\\site-packages\\sklearn\\utils\\validation.py:598: FutureWarning: np.matrix usage is deprecated in 1.0 and will raise a TypeError in 1.2. Please convert to a numpy array with np.asarray. For more information see: https://numpy.org/doc/stable/reference/generated/numpy.matrix.html\n",
      "  FutureWarning,\n"
     ]
    },
    {
     "name": "stdout",
     "output_type": "stream",
     "text": [
      "7\n"
     ]
    },
    {
     "name": "stderr",
     "output_type": "stream",
     "text": [
      "C:\\Users\\charl\\anaconda3\\envs\\compimg\\lib\\site-packages\\sklearn\\utils\\validation.py:598: FutureWarning: np.matrix usage is deprecated in 1.0 and will raise a TypeError in 1.2. Please convert to a numpy array with np.asarray. For more information see: https://numpy.org/doc/stable/reference/generated/numpy.matrix.html\n",
      "  FutureWarning,\n",
      "C:\\Users\\charl\\anaconda3\\envs\\compimg\\lib\\site-packages\\sklearn\\utils\\validation.py:598: FutureWarning: np.matrix usage is deprecated in 1.0 and will raise a TypeError in 1.2. Please convert to a numpy array with np.asarray. For more information see: https://numpy.org/doc/stable/reference/generated/numpy.matrix.html\n",
      "  FutureWarning,\n",
      "C:\\Users\\charl\\anaconda3\\envs\\compimg\\lib\\site-packages\\sklearn\\utils\\validation.py:598: FutureWarning: np.matrix usage is deprecated in 1.0 and will raise a TypeError in 1.2. Please convert to a numpy array with np.asarray. For more information see: https://numpy.org/doc/stable/reference/generated/numpy.matrix.html\n",
      "  FutureWarning,\n",
      "C:\\Users\\charl\\anaconda3\\envs\\compimg\\lib\\site-packages\\sklearn\\utils\\validation.py:598: FutureWarning: np.matrix usage is deprecated in 1.0 and will raise a TypeError in 1.2. Please convert to a numpy array with np.asarray. For more information see: https://numpy.org/doc/stable/reference/generated/numpy.matrix.html\n",
      "  FutureWarning,\n"
     ]
    },
    {
     "name": "stdout",
     "output_type": "stream",
     "text": [
      "8\n"
     ]
    },
    {
     "name": "stderr",
     "output_type": "stream",
     "text": [
      "C:\\Users\\charl\\anaconda3\\envs\\compimg\\lib\\site-packages\\sklearn\\utils\\validation.py:598: FutureWarning: np.matrix usage is deprecated in 1.0 and will raise a TypeError in 1.2. Please convert to a numpy array with np.asarray. For more information see: https://numpy.org/doc/stable/reference/generated/numpy.matrix.html\n",
      "  FutureWarning,\n",
      "C:\\Users\\charl\\anaconda3\\envs\\compimg\\lib\\site-packages\\sklearn\\utils\\validation.py:598: FutureWarning: np.matrix usage is deprecated in 1.0 and will raise a TypeError in 1.2. Please convert to a numpy array with np.asarray. For more information see: https://numpy.org/doc/stable/reference/generated/numpy.matrix.html\n",
      "  FutureWarning,\n",
      "C:\\Users\\charl\\anaconda3\\envs\\compimg\\lib\\site-packages\\sklearn\\utils\\validation.py:598: FutureWarning: np.matrix usage is deprecated in 1.0 and will raise a TypeError in 1.2. Please convert to a numpy array with np.asarray. For more information see: https://numpy.org/doc/stable/reference/generated/numpy.matrix.html\n",
      "  FutureWarning,\n",
      "C:\\Users\\charl\\anaconda3\\envs\\compimg\\lib\\site-packages\\sklearn\\utils\\validation.py:598: FutureWarning: np.matrix usage is deprecated in 1.0 and will raise a TypeError in 1.2. Please convert to a numpy array with np.asarray. For more information see: https://numpy.org/doc/stable/reference/generated/numpy.matrix.html\n",
      "  FutureWarning,\n"
     ]
    },
    {
     "name": "stdout",
     "output_type": "stream",
     "text": [
      "9\n"
     ]
    },
    {
     "name": "stderr",
     "output_type": "stream",
     "text": [
      "C:\\Users\\charl\\anaconda3\\envs\\compimg\\lib\\site-packages\\sklearn\\utils\\validation.py:598: FutureWarning: np.matrix usage is deprecated in 1.0 and will raise a TypeError in 1.2. Please convert to a numpy array with np.asarray. For more information see: https://numpy.org/doc/stable/reference/generated/numpy.matrix.html\n",
      "  FutureWarning,\n",
      "C:\\Users\\charl\\anaconda3\\envs\\compimg\\lib\\site-packages\\sklearn\\utils\\validation.py:598: FutureWarning: np.matrix usage is deprecated in 1.0 and will raise a TypeError in 1.2. Please convert to a numpy array with np.asarray. For more information see: https://numpy.org/doc/stable/reference/generated/numpy.matrix.html\n",
      "  FutureWarning,\n",
      "C:\\Users\\charl\\anaconda3\\envs\\compimg\\lib\\site-packages\\sklearn\\utils\\validation.py:598: FutureWarning: np.matrix usage is deprecated in 1.0 and will raise a TypeError in 1.2. Please convert to a numpy array with np.asarray. For more information see: https://numpy.org/doc/stable/reference/generated/numpy.matrix.html\n",
      "  FutureWarning,\n",
      "C:\\Users\\charl\\anaconda3\\envs\\compimg\\lib\\site-packages\\sklearn\\utils\\validation.py:598: FutureWarning: np.matrix usage is deprecated in 1.0 and will raise a TypeError in 1.2. Please convert to a numpy array with np.asarray. For more information see: https://numpy.org/doc/stable/reference/generated/numpy.matrix.html\n",
      "  FutureWarning,\n"
     ]
    },
    {
     "name": "stdout",
     "output_type": "stream",
     "text": [
      "10\n"
     ]
    },
    {
     "name": "stderr",
     "output_type": "stream",
     "text": [
      "C:\\Users\\charl\\anaconda3\\envs\\compimg\\lib\\site-packages\\sklearn\\utils\\validation.py:598: FutureWarning: np.matrix usage is deprecated in 1.0 and will raise a TypeError in 1.2. Please convert to a numpy array with np.asarray. For more information see: https://numpy.org/doc/stable/reference/generated/numpy.matrix.html\n",
      "  FutureWarning,\n",
      "C:\\Users\\charl\\anaconda3\\envs\\compimg\\lib\\site-packages\\sklearn\\utils\\validation.py:598: FutureWarning: np.matrix usage is deprecated in 1.0 and will raise a TypeError in 1.2. Please convert to a numpy array with np.asarray. For more information see: https://numpy.org/doc/stable/reference/generated/numpy.matrix.html\n",
      "  FutureWarning,\n",
      "C:\\Users\\charl\\anaconda3\\envs\\compimg\\lib\\site-packages\\sklearn\\utils\\validation.py:598: FutureWarning: np.matrix usage is deprecated in 1.0 and will raise a TypeError in 1.2. Please convert to a numpy array with np.asarray. For more information see: https://numpy.org/doc/stable/reference/generated/numpy.matrix.html\n",
      "  FutureWarning,\n",
      "C:\\Users\\charl\\anaconda3\\envs\\compimg\\lib\\site-packages\\sklearn\\utils\\validation.py:598: FutureWarning: np.matrix usage is deprecated in 1.0 and will raise a TypeError in 1.2. Please convert to a numpy array with np.asarray. For more information see: https://numpy.org/doc/stable/reference/generated/numpy.matrix.html\n",
      "  FutureWarning,\n"
     ]
    },
    {
     "name": "stdout",
     "output_type": "stream",
     "text": [
      "11\n"
     ]
    },
    {
     "name": "stderr",
     "output_type": "stream",
     "text": [
      "C:\\Users\\charl\\anaconda3\\envs\\compimg\\lib\\site-packages\\sklearn\\utils\\validation.py:598: FutureWarning: np.matrix usage is deprecated in 1.0 and will raise a TypeError in 1.2. Please convert to a numpy array with np.asarray. For more information see: https://numpy.org/doc/stable/reference/generated/numpy.matrix.html\n",
      "  FutureWarning,\n",
      "C:\\Users\\charl\\anaconda3\\envs\\compimg\\lib\\site-packages\\sklearn\\utils\\validation.py:598: FutureWarning: np.matrix usage is deprecated in 1.0 and will raise a TypeError in 1.2. Please convert to a numpy array with np.asarray. For more information see: https://numpy.org/doc/stable/reference/generated/numpy.matrix.html\n",
      "  FutureWarning,\n"
     ]
    }
   ],
   "source": [
    "import time\n",
    "\n",
    "start = time.time()\n",
    "\n",
    "index = 0\n",
    "\n",
    "for dataset in datasets:\n",
    "    os.makedirs(output_dir + dataset)\n",
    "    \n",
    "    for feature in features:\n",
    "        os.makedirs(output_dir + dataset + \"/\" + feature)\n",
    "        \n",
    "        path = input_dir + dataset + \"/\" + feature\n",
    "        \n",
    "        X_train, X_test, y_train, y_test = load_data(dataset, feature)\n",
    "        \n",
    "        no_regroup(dataset, feature, X_train, X_test, y_train, y_test)\n",
    "        \n",
    "        regroup(dataset, feature, X_train, X_test, y_train, y_test)\n",
    "        \n",
    "        print(index)\n",
    "        \n",
    "        index += 1\n",
    "\n",
    "print(\"The training took %f hours\" % ((time.time()-start)/3600))"
   ]
  }
 ],
 "metadata": {
  "kernelspec": {
   "display_name": "Python3.7 (Comp Img)",
   "language": "python",
   "name": "compimg"
  },
  "language_info": {
   "codemirror_mode": {
    "name": "ipython",
    "version": 3
   },
   "file_extension": ".py",
   "mimetype": "text/x-python",
   "name": "python",
   "nbconvert_exporter": "python",
   "pygments_lexer": "ipython3",
   "version": "3.7.13"
  }
 },
 "nbformat": 4,
 "nbformat_minor": 5
}
